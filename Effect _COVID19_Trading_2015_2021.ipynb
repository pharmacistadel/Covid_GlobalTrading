{
 "cells": [
  {
   "cell_type": "markdown",
   "id": "9e407a06",
   "metadata": {},
   "source": [
    "# Training project\n",
    "### This project about : Effect of COVID-19 on global trade"
   ]
  },
  {
   "cell_type": "code",
   "execution_count": 1,
   "id": "ba114a87",
   "metadata": {},
   "outputs": [],
   "source": [
    "#import laibriries\n",
    "import numpy as np\n",
    "import pandas as pd\n",
    "import datetime\n",
    "import matplotlib.pyplot as plt\n",
    "import sqlite3\n",
    "import seaborn as ses"
   ]
  },
  {
   "cell_type": "markdown",
   "id": "6ff3ac06",
   "metadata": {},
   "source": [
    "## First step: <font color=\"green\">Read Data</font> . \n"
   ]
  },
  {
   "cell_type": "markdown",
   "id": "f84cf788",
   "metadata": {},
   "source": [
    "### Here, is an example of csv_ file loading\n",
    "#### Use this code: \n",
    "##### <font color=\"red\">data_name= pd.read_csv(\"file_name.csv\")</font> , we are using df for data name as example, may be others as you like"
   ]
  },
  {
   "cell_type": "code",
   "execution_count": 2,
   "id": "d52a7c72",
   "metadata": {},
   "outputs": [],
   "source": [
    "#Read csv file\n",
    "df=pd.read_csv(\"effects-of-covid19-on-trade-at-27-october-2021-provisional.csv\")"
   ]
  },
  {
   "cell_type": "markdown",
   "id": "40e1c94d",
   "metadata": {},
   "source": [
    "## Second step : <font color=\"green\">Exploratory analysis</font>"
   ]
  },
  {
   "cell_type": "markdown",
   "id": "0e6aacd8",
   "metadata": {},
   "source": [
    "#### <font color=\"blue\">1- Display general shape of data</font>"
   ]
  },
  {
   "cell_type": "markdown",
   "id": "a87c419b",
   "metadata": {},
   "source": [
    "#### A-  <font color='red'>df.head()</font> function :\n",
    "##### To display the first 5 rows of datafram: defult =5 if you need more rows write the no. such as : df.head(number of rows)"
   ]
  },
  {
   "cell_type": "code",
   "execution_count": 3,
   "id": "c5123c25",
   "metadata": {},
   "outputs": [
    {
     "data": {
      "text/html": [
       "<div>\n",
       "<style scoped>\n",
       "    .dataframe tbody tr th:only-of-type {\n",
       "        vertical-align: middle;\n",
       "    }\n",
       "\n",
       "    .dataframe tbody tr th {\n",
       "        vertical-align: top;\n",
       "    }\n",
       "\n",
       "    .dataframe thead th {\n",
       "        text-align: right;\n",
       "    }\n",
       "</style>\n",
       "<table border=\"1\" class=\"dataframe\">\n",
       "  <thead>\n",
       "    <tr style=\"text-align: right;\">\n",
       "      <th></th>\n",
       "      <th>Direction</th>\n",
       "      <th>Year</th>\n",
       "      <th>Date</th>\n",
       "      <th>Weekday</th>\n",
       "      <th>Country</th>\n",
       "      <th>Commodity</th>\n",
       "      <th>Transport_Mode</th>\n",
       "      <th>Measure</th>\n",
       "      <th>Value</th>\n",
       "      <th>Cumulative</th>\n",
       "    </tr>\n",
       "  </thead>\n",
       "  <tbody>\n",
       "    <tr>\n",
       "      <th>0</th>\n",
       "      <td>Exports</td>\n",
       "      <td>2015</td>\n",
       "      <td>01/01/2015</td>\n",
       "      <td>Thursday</td>\n",
       "      <td>All</td>\n",
       "      <td>All</td>\n",
       "      <td>All</td>\n",
       "      <td>$</td>\n",
       "      <td>104000000</td>\n",
       "      <td>104000000</td>\n",
       "    </tr>\n",
       "    <tr>\n",
       "      <th>1</th>\n",
       "      <td>Exports</td>\n",
       "      <td>2015</td>\n",
       "      <td>02/01/2015</td>\n",
       "      <td>Friday</td>\n",
       "      <td>All</td>\n",
       "      <td>All</td>\n",
       "      <td>All</td>\n",
       "      <td>$</td>\n",
       "      <td>96000000</td>\n",
       "      <td>200000000</td>\n",
       "    </tr>\n",
       "    <tr>\n",
       "      <th>2</th>\n",
       "      <td>Exports</td>\n",
       "      <td>2015</td>\n",
       "      <td>03/01/2015</td>\n",
       "      <td>Saturday</td>\n",
       "      <td>All</td>\n",
       "      <td>All</td>\n",
       "      <td>All</td>\n",
       "      <td>$</td>\n",
       "      <td>61000000</td>\n",
       "      <td>262000000</td>\n",
       "    </tr>\n",
       "    <tr>\n",
       "      <th>3</th>\n",
       "      <td>Exports</td>\n",
       "      <td>2015</td>\n",
       "      <td>04/01/2015</td>\n",
       "      <td>Sunday</td>\n",
       "      <td>All</td>\n",
       "      <td>All</td>\n",
       "      <td>All</td>\n",
       "      <td>$</td>\n",
       "      <td>74000000</td>\n",
       "      <td>336000000</td>\n",
       "    </tr>\n",
       "    <tr>\n",
       "      <th>4</th>\n",
       "      <td>Exports</td>\n",
       "      <td>2015</td>\n",
       "      <td>05/01/2015</td>\n",
       "      <td>Monday</td>\n",
       "      <td>All</td>\n",
       "      <td>All</td>\n",
       "      <td>All</td>\n",
       "      <td>$</td>\n",
       "      <td>105000000</td>\n",
       "      <td>442000000</td>\n",
       "    </tr>\n",
       "  </tbody>\n",
       "</table>\n",
       "</div>"
      ],
      "text/plain": [
       "  Direction  Year        Date   Weekday Country Commodity Transport_Mode  \\\n",
       "0   Exports  2015  01/01/2015  Thursday     All       All            All   \n",
       "1   Exports  2015  02/01/2015    Friday     All       All            All   \n",
       "2   Exports  2015  03/01/2015  Saturday     All       All            All   \n",
       "3   Exports  2015  04/01/2015    Sunday     All       All            All   \n",
       "4   Exports  2015  05/01/2015    Monday     All       All            All   \n",
       "\n",
       "  Measure      Value  Cumulative  \n",
       "0       $  104000000   104000000  \n",
       "1       $   96000000   200000000  \n",
       "2       $   61000000   262000000  \n",
       "3       $   74000000   336000000  \n",
       "4       $  105000000   442000000  "
      ]
     },
     "execution_count": 3,
     "metadata": {},
     "output_type": "execute_result"
    }
   ],
   "source": [
    "df.head()"
   ]
  },
  {
   "cell_type": "markdown",
   "id": "10609261",
   "metadata": {},
   "source": [
    "##### C-  <font color=\"red\"> df.shape</font> function:\n",
    "##### To display the number of dimensions as well as the size in each dimension. Since data frames are two-dimensional, what shape returns is the number of rows (first no.) and columns (second no.)"
   ]
  },
  {
   "cell_type": "code",
   "execution_count": 4,
   "id": "2a5f8fb2",
   "metadata": {},
   "outputs": [
    {
     "data": {
      "text/plain": [
       "(109268, 10)"
      ]
     },
     "execution_count": 4,
     "metadata": {},
     "output_type": "execute_result"
    }
   ],
   "source": [
    "# shape of data\n",
    "df.shape"
   ]
  },
  {
   "cell_type": "markdown",
   "id": "64289b21",
   "metadata": {},
   "source": [
    "##### G- <font color=\"red\">info()</font> function:\n",
    "###### to display: \n",
    "1- Rang index (no of rows)\n",
    "2- no. of columns\n",
    "3- column names\n",
    "4- no. of non null values in each column\n",
    "5- data type(dtype) of data\n",
    "6- no. of each dtype\n",
    " 7- memeory usage during this process."
   ]
  },
  {
   "cell_type": "code",
   "execution_count": 5,
   "id": "59913262",
   "metadata": {},
   "outputs": [
    {
     "name": "stdout",
     "output_type": "stream",
     "text": [
      "<class 'pandas.core.frame.DataFrame'>\n",
      "RangeIndex: 109268 entries, 0 to 109267\n",
      "Data columns (total 10 columns):\n",
      " #   Column          Non-Null Count   Dtype \n",
      "---  ------          --------------   ----- \n",
      " 0   Direction       109268 non-null  object\n",
      " 1   Year            109268 non-null  int64 \n",
      " 2   Date            109268 non-null  object\n",
      " 3   Weekday         109268 non-null  object\n",
      " 4   Country         109268 non-null  object\n",
      " 5   Commodity       109268 non-null  object\n",
      " 6   Transport_Mode  109268 non-null  object\n",
      " 7   Measure         109268 non-null  object\n",
      " 8   Value           109268 non-null  int64 \n",
      " 9   Cumulative      109268 non-null  int64 \n",
      "dtypes: int64(3), object(7)\n",
      "memory usage: 5.4+ MB\n"
     ]
    }
   ],
   "source": [
    "df.info()"
   ]
  },
  {
   "cell_type": "markdown",
   "id": "9b2b28bc",
   "metadata": {},
   "source": [
    "#### <font color=\"blue\">2- Display basic static of data</font>"
   ]
  },
  {
   "cell_type": "markdown",
   "id": "9ef419a2",
   "metadata": {},
   "source": [
    "##### 1- <font color=\"red\">df.describe() </font> function:\n",
    "   ######    To display group of basic static at once such as : count, mean, std, min, max,... \n",
    "   ###### To get the basic statistical characteristics of each numerical column. <font color='red'>Only numerical columns</font> like integer and float can be statistically analyzed by default "
   ]
  },
  {
   "cell_type": "code",
   "execution_count": 6,
   "id": "380d2280",
   "metadata": {},
   "outputs": [
    {
     "data": {
      "text/html": [
       "<div>\n",
       "<style scoped>\n",
       "    .dataframe tbody tr th:only-of-type {\n",
       "        vertical-align: middle;\n",
       "    }\n",
       "\n",
       "    .dataframe tbody tr th {\n",
       "        vertical-align: top;\n",
       "    }\n",
       "\n",
       "    .dataframe thead th {\n",
       "        text-align: right;\n",
       "    }\n",
       "</style>\n",
       "<table border=\"1\" class=\"dataframe\">\n",
       "  <thead>\n",
       "    <tr style=\"text-align: right;\">\n",
       "      <th></th>\n",
       "      <th>Year</th>\n",
       "      <th>Value</th>\n",
       "      <th>Cumulative</th>\n",
       "    </tr>\n",
       "  </thead>\n",
       "  <tbody>\n",
       "    <tr>\n",
       "      <th>count</th>\n",
       "      <td>109268.000000</td>\n",
       "      <td>1.092680e+05</td>\n",
       "      <td>1.092680e+05</td>\n",
       "    </tr>\n",
       "    <tr>\n",
       "      <th>mean</th>\n",
       "      <td>2017.922502</td>\n",
       "      <td>2.884277e+07</td>\n",
       "      <td>5.061825e+09</td>\n",
       "    </tr>\n",
       "    <tr>\n",
       "      <th>std</th>\n",
       "      <td>1.965674</td>\n",
       "      <td>5.220912e+07</td>\n",
       "      <td>9.547532e+09</td>\n",
       "    </tr>\n",
       "    <tr>\n",
       "      <th>min</th>\n",
       "      <td>2015.000000</td>\n",
       "      <td>0.000000e+00</td>\n",
       "      <td>0.000000e+00</td>\n",
       "    </tr>\n",
       "    <tr>\n",
       "      <th>25%</th>\n",
       "      <td>2016.000000</td>\n",
       "      <td>1.000000e+06</td>\n",
       "      <td>1.120000e+08</td>\n",
       "    </tr>\n",
       "    <tr>\n",
       "      <th>50%</th>\n",
       "      <td>2018.000000</td>\n",
       "      <td>8.000000e+06</td>\n",
       "      <td>1.393000e+09</td>\n",
       "    </tr>\n",
       "    <tr>\n",
       "      <th>75%</th>\n",
       "      <td>2020.000000</td>\n",
       "      <td>2.700000e+07</td>\n",
       "      <td>4.682000e+09</td>\n",
       "    </tr>\n",
       "    <tr>\n",
       "      <th>max</th>\n",
       "      <td>2021.000000</td>\n",
       "      <td>5.490000e+08</td>\n",
       "      <td>6.436600e+10</td>\n",
       "    </tr>\n",
       "  </tbody>\n",
       "</table>\n",
       "</div>"
      ],
      "text/plain": [
       "                Year         Value    Cumulative\n",
       "count  109268.000000  1.092680e+05  1.092680e+05\n",
       "mean     2017.922502  2.884277e+07  5.061825e+09\n",
       "std         1.965674  5.220912e+07  9.547532e+09\n",
       "min      2015.000000  0.000000e+00  0.000000e+00\n",
       "25%      2016.000000  1.000000e+06  1.120000e+08\n",
       "50%      2018.000000  8.000000e+06  1.393000e+09\n",
       "75%      2020.000000  2.700000e+07  4.682000e+09\n",
       "max      2021.000000  5.490000e+08  6.436600e+10"
      ]
     },
     "execution_count": 6,
     "metadata": {},
     "output_type": "execute_result"
    }
   ],
   "source": [
    "df.describe()"
   ]
  },
  {
   "cell_type": "markdown",
   "id": "3b90feca",
   "metadata": {},
   "source": [
    "##### ** If you want to show  basic static for <font color='blue'>certain column</font>, you can use these available codes.\n",
    "##### 1- <font color='red'>df[\"Column_name\"].describe()</font>   2- <font color='red'>df.Column_name.describe()</font>"
   ]
  },
  {
   "cell_type": "code",
   "execution_count": 7,
   "id": "035747fd",
   "metadata": {},
   "outputs": [
    {
     "data": {
      "text/plain": [
       "count    1.092680e+05\n",
       "mean     2.884277e+07\n",
       "std      5.220912e+07\n",
       "min      0.000000e+00\n",
       "25%      1.000000e+06\n",
       "50%      8.000000e+06\n",
       "75%      2.700000e+07\n",
       "max      5.490000e+08\n",
       "Name: Value, dtype: float64"
      ]
     },
     "execution_count": 7,
     "metadata": {},
     "output_type": "execute_result"
    }
   ],
   "source": [
    "\n",
    "# dataframe_name[\"column_name\"].describe()\n",
    "df[\"Value\"].describe()"
   ]
  },
  {
   "cell_type": "markdown",
   "id": "4803d57a",
   "metadata": {},
   "source": [
    "###### If we want to analyze the <font color='blue'>non-numeric columns</font> then we have to specify manually shown below. Mean, Median, Standard Deviation, range, percentiles can be easily calculated using the described method."
   ]
  },
  {
   "cell_type": "code",
   "execution_count": 8,
   "id": "b0d0e7c6",
   "metadata": {},
   "outputs": [
    {
     "data": {
      "text/plain": [
       "count     109268\n",
       "unique         9\n",
       "top          All\n",
       "freq       49814\n",
       "Name: Country, dtype: object"
      ]
     },
     "execution_count": 8,
     "metadata": {},
     "output_type": "execute_result"
    }
   ],
   "source": [
    "df[\"Country\"].describe()"
   ]
  },
  {
   "cell_type": "code",
   "execution_count": 9,
   "id": "0e90b9de",
   "metadata": {},
   "outputs": [
    {
     "data": {
      "text/plain": [
       "count     109268\n",
       "unique         9\n",
       "top          All\n",
       "freq       44831\n",
       "Name: Commodity, dtype: object"
      ]
     },
     "execution_count": 9,
     "metadata": {},
     "output_type": "execute_result"
    }
   ],
   "source": [
    "df[\"Commodity\"].describe()"
   ]
  },
  {
   "cell_type": "code",
   "execution_count": 10,
   "id": "2f3103a8",
   "metadata": {},
   "outputs": [
    {
     "data": {
      "text/html": [
       "<div>\n",
       "<style scoped>\n",
       "    .dataframe tbody tr th:only-of-type {\n",
       "        vertical-align: middle;\n",
       "    }\n",
       "\n",
       "    .dataframe tbody tr th {\n",
       "        vertical-align: top;\n",
       "    }\n",
       "\n",
       "    .dataframe thead th {\n",
       "        text-align: right;\n",
       "    }\n",
       "</style>\n",
       "<table border=\"1\" class=\"dataframe\">\n",
       "  <thead>\n",
       "    <tr style=\"text-align: right;\">\n",
       "      <th></th>\n",
       "      <th>Year</th>\n",
       "      <th>Value</th>\n",
       "      <th>Cumulative</th>\n",
       "    </tr>\n",
       "  </thead>\n",
       "  <tbody>\n",
       "    <tr>\n",
       "      <th>Year</th>\n",
       "      <td>1.000000</td>\n",
       "      <td>0.046663</td>\n",
       "      <td>0.024753</td>\n",
       "    </tr>\n",
       "    <tr>\n",
       "      <th>Value</th>\n",
       "      <td>0.046663</td>\n",
       "      <td>1.000000</td>\n",
       "      <td>0.714260</td>\n",
       "    </tr>\n",
       "    <tr>\n",
       "      <th>Cumulative</th>\n",
       "      <td>0.024753</td>\n",
       "      <td>0.714260</td>\n",
       "      <td>1.000000</td>\n",
       "    </tr>\n",
       "  </tbody>\n",
       "</table>\n",
       "</div>"
      ],
      "text/plain": [
       "                Year     Value  Cumulative\n",
       "Year        1.000000  0.046663    0.024753\n",
       "Value       0.046663  1.000000    0.714260\n",
       "Cumulative  0.024753  0.714260    1.000000"
      ]
     },
     "execution_count": 10,
     "metadata": {},
     "output_type": "execute_result"
    }
   ],
   "source": [
    "df_corr=df.corr()\n",
    "df_corr"
   ]
  },
  {
   "cell_type": "code",
   "execution_count": 11,
   "id": "b71cc688",
   "metadata": {},
   "outputs": [
    {
     "data": {
      "text/plain": [
       "<AxesSubplot:>"
      ]
     },
     "execution_count": 11,
     "metadata": {},
     "output_type": "execute_result"
    },
    {
     "data": {
      "image/png": "[encoded data removed]",
      "text/plain": [
       "<Figure size 432x288 with 2 Axes>"
      ]
     },
     "metadata": {
      "needs_background": "light"
     },
     "output_type": "display_data"
    }
   ],
   "source": [
    "ses.heatmap(df_corr)"
   ]
  },
  {
   "cell_type": "markdown",
   "id": "044ca5a0",
   "metadata": {},
   "source": [
    "## Third step : <font color=\"green\">Cleaning Step</font>"
   ]
  },
  {
   "cell_type": "markdown",
   "id": "e6cded48",
   "metadata": {},
   "source": [
    "From previous information, we notice that Date column is object and should to convert to datetime64[ns]"
   ]
  },
  {
   "cell_type": "code",
   "execution_count": 12,
   "id": "c5bc6802",
   "metadata": {},
   "outputs": [],
   "source": [
    "df[\"Date\"]=df[\"Date\"].astype(\"datetime64[ns]\")"
   ]
  },
  {
   "cell_type": "markdown",
   "id": "22ca07f0",
   "metadata": {},
   "source": [
    "#### find Null"
   ]
  },
  {
   "cell_type": "code",
   "execution_count": 13,
   "id": "2ed39b06",
   "metadata": {},
   "outputs": [
    {
     "data": {
      "text/plain": [
       "Direction         0\n",
       "Year              0\n",
       "Date              0\n",
       "Weekday           0\n",
       "Country           0\n",
       "Commodity         0\n",
       "Transport_Mode    0\n",
       "Measure           0\n",
       "Value             0\n",
       "Cumulative        0\n",
       "dtype: int64"
      ]
     },
     "execution_count": 13,
     "metadata": {},
     "output_type": "execute_result"
    }
   ],
   "source": [
    "# find null values\n",
    "df.isnull().sum()"
   ]
  },
  {
   "cell_type": "markdown",
   "id": "d3a51d23",
   "metadata": {},
   "source": [
    "#### find Duplication"
   ]
  },
  {
   "cell_type": "code",
   "execution_count": 14,
   "id": "c2aadbbe",
   "metadata": {},
   "outputs": [
    {
     "data": {
      "text/plain": [
       "0"
      ]
     },
     "execution_count": 14,
     "metadata": {},
     "output_type": "execute_result"
    }
   ],
   "source": [
    "df.duplicated().sum()"
   ]
  },
  {
   "cell_type": "markdown",
   "id": "6b6cbd67",
   "metadata": {},
   "source": [
    "## Start questions"
   ]
  },
  {
   "cell_type": "markdown",
   "id": "95963fa8",
   "metadata": {},
   "source": [
    "### 1- Number of Countries share in this data and number of commercial traffic for each?"
   ]
  },
  {
   "cell_type": "code",
   "execution_count": 15,
   "id": "d8e10a5d",
   "metadata": {},
   "outputs": [
    {
     "data": {
      "text/plain": [
       "All                            49814\n",
       "China                          27192\n",
       "East Asia (excluding China)     7470\n",
       "United States                   7352\n",
       "Australia                       4983\n",
       "United Kingdom                  4981\n",
       "Japan                           2492\n",
       "European Union (27)             2492\n",
       "Total (excluding China)         2492\n",
       "Name: Country, dtype: int64"
      ]
     },
     "execution_count": 15,
     "metadata": {},
     "output_type": "execute_result"
    }
   ],
   "source": [
    "# display all countries\n",
    "df.Country.value_counts()"
   ]
  },
  {
   "cell_type": "code",
   "execution_count": 16,
   "id": "21471e39",
   "metadata": {},
   "outputs": [
    {
     "data": {
      "text/plain": [
       "China                          27192\n",
       "East Asia (excluding China)     7470\n",
       "United States                   7352\n",
       "Australia                       4983\n",
       "United Kingdom                  4981\n",
       "Japan                           2492\n",
       "European Union (27)             2492\n",
       "Name: Country, dtype: int64"
      ]
     },
     "execution_count": 16,
     "metadata": {},
     "output_type": "execute_result"
    }
   ],
   "source": [
    "# Display all countries excluding (All & Total)\n",
    "df_country_excluding= df[(df.Country!='All') & (df.Country!='Total (excluding China)')]\n",
    "df_country_excluding.Country.value_counts()"
   ]
  },
  {
   "cell_type": "markdown",
   "id": "ba8d229c",
   "metadata": {},
   "source": [
    "##### This data contains the commercial traffic for  7 countries "
   ]
  },
  {
   "cell_type": "markdown",
   "id": "00a0c62e",
   "metadata": {},
   "source": [
    "### 2- Number of of commerical traffics for these countries?"
   ]
  },
  {
   "cell_type": "code",
   "execution_count": 17,
   "id": "d744f3d8",
   "metadata": {},
   "outputs": [
    {
     "data": {
      "text/plain": [
       "56962"
      ]
     },
     "execution_count": 17,
     "metadata": {},
     "output_type": "execute_result"
    }
   ],
   "source": [
    " # sum of all comm. traffics\n",
    "df_country_excluding.Direction.count()"
   ]
  },
  {
   "cell_type": "code",
   "execution_count": 18,
   "id": "1847a7ae",
   "metadata": {},
   "outputs": [
    {
     "data": {
      "text/plain": [
       "Exports    44515\n",
       "Imports    12447\n",
       "Name: Direction, dtype: int64"
      ]
     },
     "execution_count": 18,
     "metadata": {},
     "output_type": "execute_result"
    }
   ],
   "source": [
    "# no. of each movement.\n",
    "directions= df_country_excluding.Direction.value_counts()\n",
    "directions"
   ]
  },
  {
   "cell_type": "markdown",
   "id": "e97b6707",
   "metadata": {},
   "source": [
    "##### There were 56962 traffics divided into 44515 Exports and 12447 Imports"
   ]
  },
  {
   "cell_type": "code",
   "execution_count": 19,
   "id": "69abccd6",
   "metadata": {},
   "outputs": [
    {
     "data": {
      "text/plain": [
       "<AxesSubplot:xlabel='Direction', ylabel='number of commercial traffic'>"
      ]
     },
     "execution_count": 19,
     "metadata": {},
     "output_type": "execute_result"
    },
    {
     "data": {
      "image/png": "[encoded data removed]",
      "text/plain": [
       "<Figure size 432x288 with 1 Axes>"
      ]
     },
     "metadata": {
      "needs_background": "light"
     },
     "output_type": "display_data"
    }
   ],
   "source": [
    "# bar Plot shows te diffrence between Exports and Imports operations during 2015-2021\n",
    "directions.plot.bar(color='b',xlabel='Direction',ylabel='number of commercial traffic')"
   ]
  },
  {
   "cell_type": "markdown",
   "id": "a9bf66ee",
   "metadata": {},
   "source": [
    "### 3- what is the power of each country from this commercial traffic?"
   ]
  },
  {
   "cell_type": "code",
   "execution_count": 20,
   "id": "ef6268cd",
   "metadata": {},
   "outputs": [
    {
     "data": {
      "text/html": [
       "<div>\n",
       "<style scoped>\n",
       "    .dataframe tbody tr th:only-of-type {\n",
       "        vertical-align: middle;\n",
       "    }\n",
       "\n",
       "    .dataframe tbody tr th {\n",
       "        vertical-align: top;\n",
       "    }\n",
       "\n",
       "    .dataframe thead th {\n",
       "        text-align: right;\n",
       "    }\n",
       "</style>\n",
       "<table border=\"1\" class=\"dataframe\">\n",
       "  <thead>\n",
       "    <tr style=\"text-align: right;\">\n",
       "      <th>Direction</th>\n",
       "      <th>Exports</th>\n",
       "      <th>Imports</th>\n",
       "    </tr>\n",
       "    <tr>\n",
       "      <th>Country</th>\n",
       "      <th></th>\n",
       "      <th></th>\n",
       "    </tr>\n",
       "  </thead>\n",
       "  <tbody>\n",
       "    <tr>\n",
       "      <th>Australia</th>\n",
       "      <td>2492</td>\n",
       "      <td>2491</td>\n",
       "    </tr>\n",
       "    <tr>\n",
       "      <th>China</th>\n",
       "      <td>19725</td>\n",
       "      <td>7467</td>\n",
       "    </tr>\n",
       "    <tr>\n",
       "      <th>East Asia (excluding China)</th>\n",
       "      <td>7470</td>\n",
       "      <td>0</td>\n",
       "    </tr>\n",
       "    <tr>\n",
       "      <th>European Union (27)</th>\n",
       "      <td>2492</td>\n",
       "      <td>0</td>\n",
       "    </tr>\n",
       "    <tr>\n",
       "      <th>Japan</th>\n",
       "      <td>2492</td>\n",
       "      <td>0</td>\n",
       "    </tr>\n",
       "    <tr>\n",
       "      <th>United Kingdom</th>\n",
       "      <td>2492</td>\n",
       "      <td>2489</td>\n",
       "    </tr>\n",
       "    <tr>\n",
       "      <th>United States</th>\n",
       "      <td>7352</td>\n",
       "      <td>0</td>\n",
       "    </tr>\n",
       "  </tbody>\n",
       "</table>\n",
       "</div>"
      ],
      "text/plain": [
       "Direction                    Exports  Imports\n",
       "Country                                      \n",
       "Australia                       2492     2491\n",
       "China                          19725     7467\n",
       "East Asia (excluding China)     7470        0\n",
       "European Union (27)             2492        0\n",
       "Japan                           2492        0\n",
       "United Kingdom                  2492     2489\n",
       "United States                   7352        0"
      ]
     },
     "execution_count": 20,
     "metadata": {},
     "output_type": "execute_result"
    }
   ],
   "source": [
    "# display number of Exports and Imports for each Country during 2015-2021\n",
    "date_direction=pd.crosstab(df_country_excluding.Country,df_country_excluding.Direction)\n",
    "date_direction"
   ]
  },
  {
   "cell_type": "code",
   "execution_count": 21,
   "id": "5b5565df",
   "metadata": {},
   "outputs": [
    {
     "data": {
      "text/plain": [
       "<AxesSubplot:xlabel='Country'>"
      ]
     },
     "execution_count": 21,
     "metadata": {},
     "output_type": "execute_result"
    },
    {
     "data": {
      "image/png": "[encoded data removed]",
      "text/plain": [
       "<Figure size 432x288 with 1 Axes>"
      ]
     },
     "metadata": {
      "needs_background": "light"
     },
     "output_type": "display_data"
    }
   ],
   "source": [
    "date_direction.plot.bar()"
   ]
  },
  {
   "cell_type": "markdown",
   "id": "f00979d4",
   "metadata": {},
   "source": [
    "### 4- What are types of commerical traffic field for each country?"
   ]
  },
  {
   "cell_type": "code",
   "execution_count": 22,
   "id": "eb028585",
   "metadata": {},
   "outputs": [
    {
     "data": {
      "text/html": [
       "<div>\n",
       "<style scoped>\n",
       "    .dataframe tbody tr th:only-of-type {\n",
       "        vertical-align: middle;\n",
       "    }\n",
       "\n",
       "    .dataframe tbody tr th {\n",
       "        vertical-align: top;\n",
       "    }\n",
       "\n",
       "    .dataframe thead th {\n",
       "        text-align: right;\n",
       "    }\n",
       "</style>\n",
       "<table border=\"1\" class=\"dataframe\">\n",
       "  <thead>\n",
       "    <tr style=\"text-align: right;\">\n",
       "      <th>Country</th>\n",
       "      <th>Australia</th>\n",
       "      <th>China</th>\n",
       "      <th>East Asia (excluding China)</th>\n",
       "      <th>European Union (27)</th>\n",
       "      <th>Japan</th>\n",
       "      <th>United Kingdom</th>\n",
       "      <th>United States</th>\n",
       "    </tr>\n",
       "    <tr>\n",
       "      <th>Commodity</th>\n",
       "      <th></th>\n",
       "      <th></th>\n",
       "      <th></th>\n",
       "      <th></th>\n",
       "      <th></th>\n",
       "      <th></th>\n",
       "      <th></th>\n",
       "    </tr>\n",
       "  </thead>\n",
       "  <tbody>\n",
       "    <tr>\n",
       "      <th>All</th>\n",
       "      <td>4983</td>\n",
       "      <td>4983</td>\n",
       "      <td>2492</td>\n",
       "      <td>2492</td>\n",
       "      <td>2492</td>\n",
       "      <td>4981</td>\n",
       "      <td>2492</td>\n",
       "    </tr>\n",
       "    <tr>\n",
       "      <th>Electrical machinery and equip</th>\n",
       "      <td>0</td>\n",
       "      <td>2489</td>\n",
       "      <td>0</td>\n",
       "      <td>0</td>\n",
       "      <td>0</td>\n",
       "      <td>0</td>\n",
       "      <td>0</td>\n",
       "    </tr>\n",
       "    <tr>\n",
       "      <th>Fish, crustaceans, and molluscs</th>\n",
       "      <td>0</td>\n",
       "      <td>2469</td>\n",
       "      <td>0</td>\n",
       "      <td>0</td>\n",
       "      <td>0</td>\n",
       "      <td>0</td>\n",
       "      <td>0</td>\n",
       "    </tr>\n",
       "    <tr>\n",
       "      <th>Logs, wood, and wood articles</th>\n",
       "      <td>0</td>\n",
       "      <td>4926</td>\n",
       "      <td>0</td>\n",
       "      <td>0</td>\n",
       "      <td>0</td>\n",
       "      <td>0</td>\n",
       "      <td>0</td>\n",
       "    </tr>\n",
       "    <tr>\n",
       "      <th>Meat and edible offal</th>\n",
       "      <td>0</td>\n",
       "      <td>4962</td>\n",
       "      <td>0</td>\n",
       "      <td>0</td>\n",
       "      <td>0</td>\n",
       "      <td>0</td>\n",
       "      <td>4860</td>\n",
       "    </tr>\n",
       "    <tr>\n",
       "      <th>Mechanical machinery and equip</th>\n",
       "      <td>0</td>\n",
       "      <td>2487</td>\n",
       "      <td>0</td>\n",
       "      <td>0</td>\n",
       "      <td>0</td>\n",
       "      <td>0</td>\n",
       "      <td>0</td>\n",
       "    </tr>\n",
       "    <tr>\n",
       "      <th>Milk powder, butter, and cheese</th>\n",
       "      <td>0</td>\n",
       "      <td>4876</td>\n",
       "      <td>4978</td>\n",
       "      <td>0</td>\n",
       "      <td>0</td>\n",
       "      <td>0</td>\n",
       "      <td>0</td>\n",
       "    </tr>\n",
       "  </tbody>\n",
       "</table>\n",
       "</div>"
      ],
      "text/plain": [
       "Country                          Australia  China  \\\n",
       "Commodity                                           \n",
       "All                                   4983   4983   \n",
       "Electrical machinery and equip           0   2489   \n",
       "Fish, crustaceans, and molluscs          0   2469   \n",
       "Logs, wood, and wood articles            0   4926   \n",
       "Meat and edible offal                    0   4962   \n",
       "Mechanical machinery and equip           0   2487   \n",
       "Milk powder, butter, and cheese          0   4876   \n",
       "\n",
       "Country                          East Asia (excluding China)  \\\n",
       "Commodity                                                      \n",
       "All                                                     2492   \n",
       "Electrical machinery and equip                             0   \n",
       "Fish, crustaceans, and molluscs                            0   \n",
       "Logs, wood, and wood articles                              0   \n",
       "Meat and edible offal                                      0   \n",
       "Mechanical machinery and equip                             0   \n",
       "Milk powder, butter, and cheese                         4978   \n",
       "\n",
       "Country                          European Union (27)  Japan  United Kingdom  \\\n",
       "Commodity                                                                     \n",
       "All                                             2492   2492            4981   \n",
       "Electrical machinery and equip                     0      0               0   \n",
       "Fish, crustaceans, and molluscs                    0      0               0   \n",
       "Logs, wood, and wood articles                      0      0               0   \n",
       "Meat and edible offal                              0      0               0   \n",
       "Mechanical machinery and equip                     0      0               0   \n",
       "Milk powder, butter, and cheese                    0      0               0   \n",
       "\n",
       "Country                          United States  \n",
       "Commodity                                       \n",
       "All                                       2492  \n",
       "Electrical machinery and equip               0  \n",
       "Fish, crustaceans, and molluscs              0  \n",
       "Logs, wood, and wood articles                0  \n",
       "Meat and edible offal                     4860  \n",
       "Mechanical machinery and equip               0  \n",
       "Milk powder, butter, and cheese              0  "
      ]
     },
     "execution_count": 22,
     "metadata": {},
     "output_type": "execute_result"
    }
   ],
   "source": [
    "country_commodity=pd.crosstab(df_country_excluding.Commodity,df_country_excluding.Country)\n",
    "country_commodity"
   ]
  },
  {
   "cell_type": "code",
   "execution_count": 23,
   "id": "b2afc92b",
   "metadata": {},
   "outputs": [
    {
     "data": {
      "text/plain": [
       "<AxesSubplot:ylabel='Commodity'>"
      ]
     },
     "execution_count": 23,
     "metadata": {},
     "output_type": "execute_result"
    },
    {
     "data": {
      "image/png": "[encoded data removed]",
      "text/plain": [
       "<Figure size 432x288 with 1 Axes>"
      ]
     },
     "metadata": {
      "needs_background": "light"
     },
     "output_type": "display_data"
    }
   ],
   "source": [
    "country_commodity.plot.barh(stacked=True)"
   ]
  },
  {
   "cell_type": "markdown",
   "id": "bb061136",
   "metadata": {},
   "source": [
    "##### From previous chart, we notice that, China had  the highest commerical traffic in each filed."
   ]
  },
  {
   "cell_type": "markdown",
   "id": "7bb9f902",
   "metadata": {},
   "source": [
    "### 5- What is amount of comm. traffic per year for each country?"
   ]
  },
  {
   "cell_type": "code",
   "execution_count": 24,
   "id": "d537dc95",
   "metadata": {},
   "outputs": [
    {
     "data": {
      "text/html": [
       "<div>\n",
       "<style scoped>\n",
       "    .dataframe tbody tr th:only-of-type {\n",
       "        vertical-align: middle;\n",
       "    }\n",
       "\n",
       "    .dataframe tbody tr th {\n",
       "        vertical-align: top;\n",
       "    }\n",
       "\n",
       "    .dataframe thead th {\n",
       "        text-align: right;\n",
       "    }\n",
       "</style>\n",
       "<table border=\"1\" class=\"dataframe\">\n",
       "  <thead>\n",
       "    <tr style=\"text-align: right;\">\n",
       "      <th>Country</th>\n",
       "      <th>Australia</th>\n",
       "      <th>China</th>\n",
       "      <th>East Asia (excluding China)</th>\n",
       "      <th>European Union (27)</th>\n",
       "      <th>Japan</th>\n",
       "      <th>United Kingdom</th>\n",
       "      <th>United States</th>\n",
       "    </tr>\n",
       "    <tr>\n",
       "      <th>Year</th>\n",
       "      <th></th>\n",
       "      <th></th>\n",
       "      <th></th>\n",
       "      <th></th>\n",
       "      <th></th>\n",
       "      <th></th>\n",
       "      <th></th>\n",
       "    </tr>\n",
       "  </thead>\n",
       "  <tbody>\n",
       "    <tr>\n",
       "      <th>2015</th>\n",
       "      <td>730</td>\n",
       "      <td>3971</td>\n",
       "      <td>1093</td>\n",
       "      <td>365</td>\n",
       "      <td>365</td>\n",
       "      <td>730</td>\n",
       "      <td>1089</td>\n",
       "    </tr>\n",
       "    <tr>\n",
       "      <th>2016</th>\n",
       "      <td>732</td>\n",
       "      <td>3980</td>\n",
       "      <td>1098</td>\n",
       "      <td>366</td>\n",
       "      <td>366</td>\n",
       "      <td>732</td>\n",
       "      <td>1072</td>\n",
       "    </tr>\n",
       "    <tr>\n",
       "      <th>2017</th>\n",
       "      <td>730</td>\n",
       "      <td>3985</td>\n",
       "      <td>1095</td>\n",
       "      <td>365</td>\n",
       "      <td>365</td>\n",
       "      <td>729</td>\n",
       "      <td>1063</td>\n",
       "    </tr>\n",
       "    <tr>\n",
       "      <th>2018</th>\n",
       "      <td>730</td>\n",
       "      <td>3995</td>\n",
       "      <td>1095</td>\n",
       "      <td>365</td>\n",
       "      <td>365</td>\n",
       "      <td>730</td>\n",
       "      <td>1075</td>\n",
       "    </tr>\n",
       "    <tr>\n",
       "      <th>2019</th>\n",
       "      <td>730</td>\n",
       "      <td>3994</td>\n",
       "      <td>1095</td>\n",
       "      <td>365</td>\n",
       "      <td>365</td>\n",
       "      <td>730</td>\n",
       "      <td>1075</td>\n",
       "    </tr>\n",
       "    <tr>\n",
       "      <th>2020</th>\n",
       "      <td>732</td>\n",
       "      <td>3976</td>\n",
       "      <td>1096</td>\n",
       "      <td>366</td>\n",
       "      <td>366</td>\n",
       "      <td>732</td>\n",
       "      <td>1080</td>\n",
       "    </tr>\n",
       "    <tr>\n",
       "      <th>2021</th>\n",
       "      <td>599</td>\n",
       "      <td>3291</td>\n",
       "      <td>898</td>\n",
       "      <td>300</td>\n",
       "      <td>300</td>\n",
       "      <td>598</td>\n",
       "      <td>898</td>\n",
       "    </tr>\n",
       "  </tbody>\n",
       "</table>\n",
       "</div>"
      ],
      "text/plain": [
       "Country  Australia  China  East Asia (excluding China)  European Union (27)  \\\n",
       "Year                                                                          \n",
       "2015           730   3971                         1093                  365   \n",
       "2016           732   3980                         1098                  366   \n",
       "2017           730   3985                         1095                  365   \n",
       "2018           730   3995                         1095                  365   \n",
       "2019           730   3994                         1095                  365   \n",
       "2020           732   3976                         1096                  366   \n",
       "2021           599   3291                          898                  300   \n",
       "\n",
       "Country  Japan  United Kingdom  United States  \n",
       "Year                                           \n",
       "2015       365             730           1089  \n",
       "2016       366             732           1072  \n",
       "2017       365             729           1063  \n",
       "2018       365             730           1075  \n",
       "2019       365             730           1075  \n",
       "2020       366             732           1080  \n",
       "2021       300             598            898  "
      ]
     },
     "execution_count": 24,
     "metadata": {},
     "output_type": "execute_result"
    }
   ],
   "source": [
    "country_date=pd.crosstab([df_country_excluding.Year],df_country_excluding.Country)\n",
    "country_date"
   ]
  },
  {
   "cell_type": "code",
   "execution_count": 25,
   "id": "47cc28fb",
   "metadata": {},
   "outputs": [
    {
     "data": {
      "text/plain": [
       "<AxesSubplot:ylabel='Year'>"
      ]
     },
     "execution_count": 25,
     "metadata": {},
     "output_type": "execute_result"
    },
    {
     "data": {
      "image/png": "[encoded data removed]",
      "text/plain": [
       "<Figure size 1440x720 with 1 Axes>"
      ]
     },
     "metadata": {
      "needs_background": "light"
     },
     "output_type": "display_data"
    }
   ],
   "source": [
    "country_date.plot.barh(stacked=False,figsize=(20,10))"
   ]
  },
  {
   "cell_type": "markdown",
   "id": "9e1deb7f",
   "metadata": {},
   "source": [
    "##### From this data, we notice that comm. traffic is reduced during 2021 "
   ]
  },
  {
   "cell_type": "markdown",
   "id": "dfdf5830",
   "metadata": {},
   "source": [
    "### 6- What are the values of these traffic for each country?"
   ]
  },
  {
   "cell_type": "code",
   "execution_count": 47,
   "id": "67d5c385",
   "metadata": {},
   "outputs": [
    {
     "data": {
      "text/html": [
       "<div>\n",
       "<style scoped>\n",
       "    .dataframe tbody tr th:only-of-type {\n",
       "        vertical-align: middle;\n",
       "    }\n",
       "\n",
       "    .dataframe tbody tr th {\n",
       "        vertical-align: top;\n",
       "    }\n",
       "\n",
       "    .dataframe thead th {\n",
       "        text-align: right;\n",
       "    }\n",
       "</style>\n",
       "<table border=\"1\" class=\"dataframe\">\n",
       "  <thead>\n",
       "    <tr style=\"text-align: right;\">\n",
       "      <th>Country</th>\n",
       "      <th>Australia</th>\n",
       "      <th>China</th>\n",
       "      <th>East Asia (excluding China)</th>\n",
       "      <th>European Union (27)</th>\n",
       "      <th>Japan</th>\n",
       "      <th>United Kingdom</th>\n",
       "      <th>United States</th>\n",
       "    </tr>\n",
       "    <tr>\n",
       "      <th>Year</th>\n",
       "      <th></th>\n",
       "      <th></th>\n",
       "      <th></th>\n",
       "      <th></th>\n",
       "      <th></th>\n",
       "      <th></th>\n",
       "      <th></th>\n",
       "    </tr>\n",
       "  </thead>\n",
       "  <tbody>\n",
       "    <tr>\n",
       "      <th>2015</th>\n",
       "      <td>2560703000000</td>\n",
       "      <td>4870501115000</td>\n",
       "      <td>2741069209000</td>\n",
       "      <td>664704000000</td>\n",
       "      <td>543565000000</td>\n",
       "      <td>556011000000</td>\n",
       "      <td>1500516470000</td>\n",
       "    </tr>\n",
       "    <tr>\n",
       "      <th>2016</th>\n",
       "      <td>2664173000000</td>\n",
       "      <td>5200810527000</td>\n",
       "      <td>2681476133000</td>\n",
       "      <td>708211000000</td>\n",
       "      <td>550783000000</td>\n",
       "      <td>553019000000</td>\n",
       "      <td>1349343979000</td>\n",
       "    </tr>\n",
       "    <tr>\n",
       "      <th>2017</th>\n",
       "      <td>2770427000000</td>\n",
       "      <td>6054659206000</td>\n",
       "      <td>2965200478000</td>\n",
       "      <td>681219000000</td>\n",
       "      <td>586827000000</td>\n",
       "      <td>572990000000</td>\n",
       "      <td>1327613497000</td>\n",
       "    </tr>\n",
       "    <tr>\n",
       "      <th>2018</th>\n",
       "      <td>2880750000000</td>\n",
       "      <td>6865582956000</td>\n",
       "      <td>3184066107000</td>\n",
       "      <td>794725000000</td>\n",
       "      <td>635500000000</td>\n",
       "      <td>613132000000</td>\n",
       "      <td>1376271605000</td>\n",
       "    </tr>\n",
       "    <tr>\n",
       "      <th>2019</th>\n",
       "      <td>2868609000000</td>\n",
       "      <td>8004019527000</td>\n",
       "      <td>3372578715000</td>\n",
       "      <td>748473000000</td>\n",
       "      <td>648406000000</td>\n",
       "      <td>606877000000</td>\n",
       "      <td>1359090521000</td>\n",
       "    </tr>\n",
       "    <tr>\n",
       "      <th>2020</th>\n",
       "      <td>2678841000000</td>\n",
       "      <td>7886201062000</td>\n",
       "      <td>3515799110000</td>\n",
       "      <td>748688000000</td>\n",
       "      <td>694025000000</td>\n",
       "      <td>559338000000</td>\n",
       "      <td>1583163365000</td>\n",
       "    </tr>\n",
       "    <tr>\n",
       "      <th>2021</th>\n",
       "      <td>1820205000000</td>\n",
       "      <td>6680468100000</td>\n",
       "      <td>2297572686000</td>\n",
       "      <td>501173000000</td>\n",
       "      <td>426212000000</td>\n",
       "      <td>369749000000</td>\n",
       "      <td>1037309646000</td>\n",
       "    </tr>\n",
       "  </tbody>\n",
       "</table>\n",
       "</div>"
      ],
      "text/plain": [
       "Country      Australia          China  East Asia (excluding China)  \\\n",
       "Year                                                                 \n",
       "2015     2560703000000  4870501115000                2741069209000   \n",
       "2016     2664173000000  5200810527000                2681476133000   \n",
       "2017     2770427000000  6054659206000                2965200478000   \n",
       "2018     2880750000000  6865582956000                3184066107000   \n",
       "2019     2868609000000  8004019527000                3372578715000   \n",
       "2020     2678841000000  7886201062000                3515799110000   \n",
       "2021     1820205000000  6680468100000                2297572686000   \n",
       "\n",
       "Country  European Union (27)         Japan  United Kingdom  United States  \n",
       "Year                                                                       \n",
       "2015            664704000000  543565000000    556011000000  1500516470000  \n",
       "2016            708211000000  550783000000    553019000000  1349343979000  \n",
       "2017            681219000000  586827000000    572990000000  1327613497000  \n",
       "2018            794725000000  635500000000    613132000000  1376271605000  \n",
       "2019            748473000000  648406000000    606877000000  1359090521000  \n",
       "2020            748688000000  694025000000    559338000000  1583163365000  \n",
       "2021            501173000000  426212000000    369749000000  1037309646000  "
      ]
     },
     "execution_count": 47,
     "metadata": {},
     "output_type": "execute_result"
    }
   ],
   "source": [
    "\n",
    "country_value= pd.crosstab(index=df_country_excluding.Year,columns=df_country_excluding.Country,values=df_country_excluding.Cumulative,aggfunc='sum')\n",
    "country_value"
   ]
  },
  {
   "cell_type": "code",
   "execution_count": 48,
   "id": "ca70c3ca",
   "metadata": {},
   "outputs": [
    {
     "data": {
      "image/png": "[encoded data removed]",
      "text/plain": [
       "<Figure size 720x720 with 1 Axes>"
      ]
     },
     "metadata": {
      "needs_background": "light"
     },
     "output_type": "display_data"
    }
   ],
   "source": [
    "x=country_value.plot(kind='barh',figsize=(10,10),width=0.9)\n",
    "x.spines['right'].set_visible(False)\n",
    "x.spines['top'].set_visible(False)"
   ]
  },
  {
   "cell_type": "code",
   "execution_count": 49,
   "id": "dbc52212",
   "metadata": {},
   "outputs": [
    {
     "data": {
      "text/plain": [
       "<AxesSubplot:title={'center':'Value range of of commecial traffic for each country during 2015-2021'}, ylabel='Value'>"
      ]
     },
     "execution_count": 49,
     "metadata": {},
     "output_type": "execute_result"
    },
    {
     "data": {
      "image/png": "[encoded data removed]",
      "text/plain": [
       "<Figure size 1080x648 with 1 Axes>"
      ]
     },
     "metadata": {
      "needs_background": "light"
     },
     "output_type": "display_data"
    }
   ],
   "source": [
    "#\n",
    "country_value.plot(kind='box',xlabel='Country',ylabel='Value',title='Value range of of commecial traffic for each country during 2015-2021',figsize=(15,9))"
   ]
  },
  {
   "cell_type": "markdown",
   "id": "ad339bf9",
   "metadata": {},
   "source": [
    "### 8- What did the highest country have Exports?"
   ]
  },
  {
   "cell_type": "code",
   "execution_count": 29,
   "id": "907fb838",
   "metadata": {},
   "outputs": [
    {
     "data": {
      "text/plain": [
       "China             7467\n",
       "Australia         2491\n",
       "United Kingdom    2489\n",
       "Name: Country, dtype: int64"
      ]
     },
     "execution_count": 29,
     "metadata": {},
     "output_type": "execute_result"
    }
   ],
   "source": [
    "country_exports= df_country_excluding.Country[df_country_excluding.Direction=='Exports'].value_counts().sort_values(ascending=False)\n",
    "country_exports\n",
    "country_imports= df_country_excluding.Country[df_country_excluding.Direction=='Imports'].value_counts().sort_values(ascending=False)\n",
    "country_imports"
   ]
  },
  {
   "cell_type": "code",
   "execution_count": 40,
   "id": "23f2c03f",
   "metadata": {},
   "outputs": [
    {
     "data": {
      "text/plain": [
       "(China                          19725\n",
       " East Asia (excluding China)     7470\n",
       " United States                   7352\n",
       " Australia                       2492\n",
       " Japan                           2492\n",
       " United Kingdom                  2492\n",
       " European Union (27)             2492\n",
       " Name: Country, dtype: int64,\n",
       " <AxesSubplot:title={'center':'Number of Exports for each country during 2015-2021'}, xlabel='Country', ylabel='Number of ُExports'>)"
      ]
     },
     "execution_count": 40,
     "metadata": {},
     "output_type": "execute_result"
    },
    {
     "data": {
      "image/png": "[encoded data removed]",
      "text/plain": [
       "<Figure size 720x432 with 1 Axes>"
      ]
     },
     "metadata": {
      "needs_background": "light"
     },
     "output_type": "display_data"
    }
   ],
   "source": [
    "country_exports,country_exports.plot.bar(xlabel='Country', ylabel='Number of ُExports',title='Number of Exports for each country during 2015-2021',figsize=(10,6))"
   ]
  },
  {
   "cell_type": "code",
   "execution_count": 41,
   "id": "e0a305cc",
   "metadata": {},
   "outputs": [
    {
     "data": {
      "text/plain": [
       "(China             7467\n",
       " Australia         2491\n",
       " United Kingdom    2489\n",
       " Name: Country, dtype: int64,\n",
       " <AxesSubplot:title={'center':'Number of Imports for each country during 2015-2021'}, xlabel='Country', ylabel='Number of Imports'>)"
      ]
     },
     "execution_count": 41,
     "metadata": {},
     "output_type": "execute_result"
    },
    {
     "data": {
      "image/png": "[encoded data removed]",
      "text/plain": [
       "<Figure size 720x432 with 1 Axes>"
      ]
     },
     "metadata": {
      "needs_background": "light"
     },
     "output_type": "display_data"
    }
   ],
   "source": [
    "country_imports,country_imports.plot.bar(xlabel='Country', ylabel='Number of Imports',title='Number of Imports for each country during 2015-2021',figsize=(10,6))"
   ]
  },
  {
   "cell_type": "markdown",
   "id": "4ea662bf",
   "metadata": {},
   "source": [
    "#### from previous data, we notice that during the period 2015- 2021, China had the highest  commerical traffic numbers in exports and imports than the others by 19725 and 7467, respectively."
   ]
  },
  {
   "cell_type": "markdown",
   "id": "b2697634",
   "metadata": {},
   "source": [
    "### 9- What is the most important exports and imports of China durring that period?"
   ]
  },
  {
   "cell_type": "code",
   "execution_count": 42,
   "id": "dfb4a1f2",
   "metadata": {},
   "outputs": [
    {
     "data": {
      "text/plain": [
       "Meat and edible offal              4962\n",
       "Logs, wood, and wood articles      4926\n",
       "Milk powder, butter, and cheese    4876\n",
       "Fish, crustaceans, and molluscs    2469\n",
       "Name: Commodity, dtype: int64"
      ]
     },
     "execution_count": 42,
     "metadata": {},
     "output_type": "execute_result"
    }
   ],
   "source": [
    "china_commodity_exports= df_country_excluding.Commodity[(df_country_excluding.Country=='China') & (df_country_excluding.Commodity!='All')&(df_country_excluding.Direction==\"Exports\")].value_counts()\n",
    "china_commodity_exports"
   ]
  },
  {
   "cell_type": "code",
   "execution_count": 43,
   "id": "65a126d0",
   "metadata": {},
   "outputs": [
    {
     "data": {
      "text/plain": [
       "<AxesSubplot:>"
      ]
     },
     "execution_count": 43,
     "metadata": {},
     "output_type": "execute_result"
    },
    {
     "data": {
      "image/png": "[encoded data removed]",
      "text/plain": [
       "<Figure size 432x288 with 1 Axes>"
      ]
     },
     "metadata": {
      "needs_background": "light"
     },
     "output_type": "display_data"
    }
   ],
   "source": [
    "china_commodity_exports.plot.bar()"
   ]
  },
  {
   "cell_type": "code",
   "execution_count": 44,
   "id": "ebbb81a0",
   "metadata": {},
   "outputs": [
    {
     "data": {
      "text/plain": [
       "Electrical machinery and equip    2489\n",
       "Mechanical machinery and equip    2487\n",
       "Name: Commodity, dtype: int64"
      ]
     },
     "execution_count": 44,
     "metadata": {},
     "output_type": "execute_result"
    }
   ],
   "source": [
    "china_commodity_imports= df_country_excluding.Commodity[(df_country_excluding.Country=='China') & (df_country_excluding.Commodity!='All')&(df_country_excluding.Direction==\"Imports\")].value_counts()\n",
    "china_commodity_imports"
   ]
  },
  {
   "cell_type": "markdown",
   "id": "6511d5b9",
   "metadata": {},
   "source": [
    "### 10- Compare between number of exports for China and USA"
   ]
  },
  {
   "cell_type": "code",
   "execution_count": 45,
   "id": "434186fb",
   "metadata": {},
   "outputs": [],
   "source": [
    "china_usa_year=df_country_excluding[['Country','Year','Direction']][((df_country_excluding.Country=='China')|(df_country_excluding.Country=='United States'))&(df_country_excluding.Direction=='Exports')]\n",
    "china_usa_yearly=pd.crosstab(index=china_usa_year.Year,columns=china_usa_year.Country)"
   ]
  },
  {
   "cell_type": "code",
   "execution_count": 46,
   "id": "37ee7760",
   "metadata": {},
   "outputs": [
    {
     "data": {
      "text/plain": [
       "<AxesSubplot:title={'center':'Number of Exports for China and USA during 2015-2021'}, xlabel='Year', ylabel='Number of Exports'>"
      ]
     },
     "execution_count": 46,
     "metadata": {},
     "output_type": "execute_result"
    },
    {
     "data": {
      "image/png": "[encoded data removed]",
      "text/plain": [
       "<Figure size 1080x720 with 1 Axes>"
      ]
     },
     "metadata": {
      "needs_background": "light"
     },
     "output_type": "display_data"
    }
   ],
   "source": [
    "china_usa_yearly.plot(xlabel='Year',ylabel='Number of Exports',title='Number of Exports for China and USA during 2015-2021',kind='bar',figsize=(15,10))"
   ]
  },
  {
   "cell_type": "markdown",
   "id": "243dfa83",
   "metadata": {},
   "source": [
    "#### From previous bar chart, we notice that China had more number of exports than USA durin period 2015-2021.\n",
    "## What that mean ???? war of Covid?? or there is an another reason for Covid"
   ]
  },
  {
   "cell_type": "markdown",
   "id": "4f8ff31d",
   "metadata": {},
   "source": [
    "# Conclusion:\n",
    "- This dataset shape is (109268 rows, 10 columns) \n",
    "- There was no null value or duplication\n",
    "- This data contains the commercial traffic for  7 countries (China, East Asia (excluding China), United States, Australia, United Kingdom, Japan,European Union (27))             \n",
    "- There were 56962 traffics divided into 44515 Exports and 12447 Imports"
   ]
  },
  {
   "cell_type": "markdown",
   "id": "24bbd0ec",
   "metadata": {},
   "source": [
    "# The analysis will be continue later, in another section. In addition, we will do this analysis using SQL and EXcel using Tableau and PowerBI for visualization."
   ]
  },
  {
   "cell_type": "code",
   "execution_count": null,
   "id": "feb828cd",
   "metadata": {},
   "outputs": [],
   "source": []
  }
 ],
 "metadata": {
  "kernelspec": {
   "display_name": "Python 3 (ipykernel)",
   "language": "python",
   "name": "python3"
  },
  "language_info": {
   "codemirror_mode": {
    "name": "ipython",
    "version": 3
   },
   "file_extension": ".py",
   "mimetype": "text/x-python",
   "name": "python",
   "nbconvert_exporter": "python",
   "pygments_lexer": "ipython3",
   "version": "3.7.4"
  }
 },
 "nbformat": 4,
 "nbformat_minor": 5
}
